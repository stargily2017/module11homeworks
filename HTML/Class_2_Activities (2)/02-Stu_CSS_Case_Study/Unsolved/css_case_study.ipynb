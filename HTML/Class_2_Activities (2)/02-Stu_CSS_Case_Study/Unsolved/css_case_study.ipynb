{
 "cells": [
  {
   "attachments": {},
   "cell_type": "markdown",
   "id": "81f33512-9736-465c-868e-8e128aa8edaf",
   "metadata": {},
   "source": [
    "# CSS Case Study"
   ]
  },
  {
   "cell_type": "code",
   "execution_count": 12,
   "id": "d2eb3574-49de-4503-912b-fdcfd6070ca3",
   "metadata": {},
   "outputs": [],
   "source": [
    "# Import BeautifulSoup\n",
    "from bs4 import BeautifulSoup\n",
    "from bs4 import BeautifulSoup as soup"
   ]
  },
  {
   "cell_type": "code",
   "execution_count": 13,
   "id": "e9bc92ff-6725-4296-9f42-f7ef78a50d9b",
   "metadata": {},
   "outputs": [],
   "source": [
    "# Save the provided HTML code as a Python string.\n",
    "html = \"\"\"\n",
    "<!DOCTYPE html>\n",
    "<html lang=\"en\">\n",
    "\n",
    "<head>\n",
    "    <meta charset=\"UTF-8\">\n",
    "    <meta http-equiv=\"X-UA-Compatible\" content=\"IE=edge\">\n",
    "    <meta name=\"viewport\" content=\"width=device-width, initial-scale=1.0\">\n",
    "    <title>Document</title>\n",
    "\n",
    "    <style>\n",
    "        .even {\n",
    "            color: blue;\n",
    "        }\n",
    "\n",
    "        .odd {\n",
    "            color: green;\n",
    "        }\n",
    "    </style>\n",
    "\n",
    "</head>\n",
    "\n",
    "<body>\n",
    "    <div>\n",
    "        <p class=\"odd\" id=\"first\">First</p>\n",
    "        <p class=\"even\" id=\"second\">Second</p>\n",
    "        <p class=\"odd\" id=\"third\">Third</p>\n",
    "    </div>\n",
    "\n",
    "    <div>\n",
    "        <p class=\"even\" id=\"fourth\">Fourth</p>\n",
    "        <p class=\"odd\" id=\"fifth\">Fifth</p>\n",
    "        <p class=\"even\" id=\"sixth\">Sixth</p>\n",
    "    </div>\n",
    "</body>\n",
    "\n",
    "</html>\n",
    "\"\"\""
   ]
  },
  {
   "cell_type": "code",
   "execution_count": 14,
   "id": "2d6528d1-02bd-4392-b1a8-a5cb62888767",
   "metadata": {},
   "outputs": [],
   "source": [
    "# Convert the HTML string into a BeautifulSoup object.\n",
    "soup = BeautifulSoup(html, 'html.parser')"
   ]
  },
  {
   "cell_type": "code",
   "execution_count": 16,
   "id": "29a1a9a6-a878-4978-aec0-6e2caca73bb7",
   "metadata": {},
   "outputs": [
    {
     "data": {
      "text/plain": [
       "[<p class=\"odd\" id=\"first\">First</p>,\n",
       " <p class=\"odd\" id=\"third\">Third</p>,\n",
       " <p class=\"odd\" id=\"fifth\">Fifth</p>]"
      ]
     },
     "execution_count": 16,
     "metadata": {},
     "output_type": "execute_result"
    }
   ],
   "source": [
    "# Use the `find_all` function to retrieve **all** of the elements that belong to the `odd` class. \n",
    "# Save the results to a variable.\n",
    "elements_odd = soup.find_all('p', class_='odd')\n"
   ]
  },
  {
   "cell_type": "code",
   "execution_count": 17,
   "id": "ea3d80d2-7289-45f7-a532-f123752c4103",
   "metadata": {},
   "outputs": [
    {
     "name": "stdout",
     "output_type": "stream",
     "text": [
      "First\n",
      "Third\n",
      "Fifth\n"
     ]
    }
   ],
   "source": [
    "# Display the results by using a `for` loop.\n",
    "for elements in elements_odd:\n",
    "    print(elements.text)"
   ]
  },
  {
   "attachments": {},
   "cell_type": "markdown",
   "id": "3391cc5f-1193-44ff-983b-afb101efd9d6",
   "metadata": {},
   "source": [
    "Now that you’ve identified HTML elements by using the CSS `class` selector, you’ll do the same but using the `id` selector. Recall that a `class` can contain multiple elements but that an `id` must be unique."
   ]
  },
  {
   "cell_type": "code",
   "execution_count": 22,
   "id": "02cef00f-3348-46a4-bb62-22bacaffbcee",
   "metadata": {},
   "outputs": [
    {
     "name": "stdout",
     "output_type": "stream",
     "text": [
      "First\n"
     ]
    }
   ],
   "source": [
    "# Extract the text from a paragraph element that has an `id` of `first`.\n",
    "# Print your result.\n",
    "ele = soup.find('p', id='first')\n",
    "print(ele.text)"
   ]
  }
 ],
 "metadata": {
  "kernelspec": {
   "display_name": "Python (pythondata)",
   "language": "python",
   "name": "pythondata"
  },
  "language_info": {
   "codemirror_mode": {
    "name": "ipython",
    "version": 3
   },
   "file_extension": ".py",
   "mimetype": "text/x-python",
   "name": "python",
   "nbconvert_exporter": "python",
   "pygments_lexer": "ipython3",
   "version": "3.11.3"
  }
 },
 "nbformat": 4,
 "nbformat_minor": 5
}
